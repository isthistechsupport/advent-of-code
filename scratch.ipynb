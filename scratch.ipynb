{
 "cells": [
  {
   "cell_type": "markdown",
   "metadata": {},
   "source": [
    "This notebook contains my attempts at completing Advent of Code 2024. Wish me luck!"
   ]
  },
  {
   "cell_type": "code",
   "execution_count": null,
   "metadata": {},
   "outputs": [
    {
     "name": "stdout",
     "output_type": "stream",
     "text": [
      "3508942\n"
     ]
    }
   ],
   "source": [
    "# Advent of Code 2024 - Day 1, Part 1\n",
    "\n",
    "list_1 = []\n",
    "list_2 = []\n",
    "numbers = []\n",
    "result = 0\n",
    "with open('input_day1.txt', 'r') as file:\n",
    "    for line in file:\n",
    "        num1, num2 = map(int, line.split())\n",
    "        list_1.append(num1)\n",
    "        list_2.append(num2)\n",
    "\n",
    "list_1.sort()\n",
    "list_2.sort()\n",
    "\n",
    "numbers = list(zip(list_1, list_2))\n",
    "\n",
    "for num1, num2 in numbers:\n",
    "    result += abs(num1 - num2)\n",
    "print(result)"
   ]
  },
  {
   "cell_type": "code",
   "execution_count": null,
   "metadata": {},
   "outputs": [
    {
     "name": "stdout",
     "output_type": "stream",
     "text": [
      "26593248\n"
     ]
    }
   ],
   "source": [
    "# Advent of Code 2024 - Day 1, Part 2\n",
    "\n",
    "list_1 = []\n",
    "list_2 = []\n",
    "result = 0\n",
    "with open('input_day1.txt', 'r') as file:\n",
    "    for line in file:\n",
    "        num1, num2 = map(int, line.split())\n",
    "        list_1.append(num1)\n",
    "        list_2.append(num2)\n",
    "\n",
    "for i in list_1:\n",
    "    count_i = list_2.count(i)\n",
    "    result += i * count_i\n",
    "print(result)"
   ]
  }
 ],
 "metadata": {
  "kernelspec": {
   "display_name": ".venv",
   "language": "python",
   "name": "python3"
  },
  "language_info": {
   "codemirror_mode": {
    "name": "ipython",
    "version": 3
   },
   "file_extension": ".py",
   "mimetype": "text/x-python",
   "name": "python",
   "nbconvert_exporter": "python",
   "pygments_lexer": "ipython3",
   "version": "3.11.9"
  }
 },
 "nbformat": 4,
 "nbformat_minor": 2
}
